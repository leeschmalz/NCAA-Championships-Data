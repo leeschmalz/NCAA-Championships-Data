{
 "cells": [
  {
   "cell_type": "code",
   "execution_count": 1,
   "metadata": {},
   "outputs": [],
   "source": [
    "import re\n",
    "import pandas as pd\n",
    "import numpy as np"
   ]
  },
  {
   "cell_type": "code",
   "execution_count": 2,
   "metadata": {},
   "outputs": [],
   "source": [
    "with open('NCAAwrestling1.txt') as myFile:\n",
    "    text = myFile.read()\n",
    "result = text.split('2019 NCAA Division I Wrestling Championships')"
   ]
  },
  {
   "cell_type": "code",
   "execution_count": 3,
   "metadata": {},
   "outputs": [],
   "source": [
    "doc_125 = result[1]\n",
    "doc_133 = result[2]\n",
    "doc_141 = result[3]\n",
    "doc_149 = result[4]\n",
    "doc_157 = result[5]\n",
    "doc_165 = result[6]\n",
    "doc_174 = result[7]\n",
    "doc_184 = result[8]\n",
    "doc_197 = result[9]\n",
    "doc_285 = result[10]"
   ]
  },
  {
   "cell_type": "code",
   "execution_count": 4,
   "metadata": {},
   "outputs": [],
   "source": [
    "words_list = re.split(\"[- )(]+\", doc_125)"
   ]
  },
  {
   "cell_type": "code",
   "execution_count": 5,
   "metadata": {},
   "outputs": [],
   "source": [
    "list1 = []\n",
    "for item in words_list:\n",
    "    if '0' not in item and '1' not in item and '2' not in item and '3' not in item and '4' not in item and '5' not in item and '6' not in item and '7' not in item and '8' not in item and '9' not in item and 'day' not in item:\n",
    "        list1.append(item)\n"
   ]
  },
  {
   "cell_type": "code",
   "execution_count": 6,
   "metadata": {},
   "outputs": [],
   "source": [
    "def caps_func(string):\n",
    "    if string.isupper() and string != 'TF' and string != 'MD' and string!='TB' and string!='DQ' and string!='SV' and string!= 'DJ':\n",
    "        return False\n",
    "    else:\n",
    "        return True\n",
    "\n",
    "list2 = list(filter(caps_func,list1))"
   ]
  },
  {
   "cell_type": "code",
   "execution_count": 7,
   "metadata": {},
   "outputs": [],
   "source": [
    "def remove_stop_words(string):\n",
    "    if string == '' or string == 'Championships' or string == 'Morning' or string == 'Night' or string == 'Division' or string == 'Wrestling' or string == 'Place' or string == 'Third' or string == 'Fifth' or string == 'Seventh' or string == 'Loser' or string == 'of':\n",
    "        return False\n",
    "    else:\n",
    "        return True\n",
    "\n",
    "cleaned_list = list(filter(remove_stop_words,list2))"
   ]
  },
  {
   "cell_type": "code",
   "execution_count": 10,
   "metadata": {},
   "outputs": [
    {
     "data": {
      "text/plain": [
       "['Sebastian',\n",
       " 'Rivera',\n",
       " 'Trey',\n",
       " 'Chalifoux',\n",
       " 'Devin',\n",
       " 'Schroder',\n",
       " 'Drew',\n",
       " 'Mattin',\n",
       " 'RayVon',\n",
       " 'Foley',\n",
       " 'Rico',\n",
       " 'Montoya',\n",
       " 'Malik',\n",
       " 'Heinselman',\n",
       " 'Vitali',\n",
       " 'Arujau',\n",
       " 'Jack',\n",
       " 'Mueller',\n",
       " 'Gage',\n",
       " 'Curry',\n",
       " 'Jay',\n",
       " 'Schwarm',\n",
       " 'Michael',\n",
       " 'McGee',\n",
       " 'Drew',\n",
       " 'Hildebrandt',\n",
       " 'Gabe',\n",
       " 'Townsell',\n",
       " 'Christian',\n",
       " 'Moody',\n",
       " 'Ronnie',\n",
       " 'Bresser',\n",
       " 'Spencer',\n",
       " 'Lee',\n",
       " 'Bryce',\n",
       " 'West',\n",
       " 'Alex',\n",
       " 'Mackall',\n",
       " 'Sean',\n",
       " 'Fausz',\n",
       " 'Travis',\n",
       " 'Piotrowski',\n",
       " 'Cole',\n",
       " 'Verner',\n",
       " 'Dack',\n",
       " 'Punke',\n",
       " 'Sean',\n",
       " 'Russell',\n",
       " 'Pat',\n",
       " 'Glory',\n",
       " 'Alonzo',\n",
       " 'Allen',\n",
       " 'Carmen',\n",
       " 'Ferrante',\n",
       " 'Brent',\n",
       " 'Fleetwood',\n",
       " 'Elijah',\n",
       " 'Oliver',\n",
       " 'Zeke',\n",
       " 'Moisey',\n",
       " 'Korbin',\n",
       " 'Meink',\n",
       " 'Nicholas',\n",
       " 'Piccininni',\n",
       " 'Rivera',\n",
       " 'TF',\n",
       " 'Mattin',\n",
       " 'Dec',\n",
       " 'Foley',\n",
       " 'TF',\n",
       " 'Arujau',\n",
       " 'MD',\n",
       " 'Mueller',\n",
       " 'Fall',\n",
       " 'McGee',\n",
       " 'TF',\n",
       " 'Hildebrandt',\n",
       " 'Dec',\n",
       " 'Bresser',\n",
       " 'Fall',\n",
       " 'Lee',\n",
       " 'TF',\n",
       " 'Fausz',\n",
       " 'Dec',\n",
       " 'Piotrowski',\n",
       " 'Dec',\n",
       " 'Russell',\n",
       " 'MD',\n",
       " 'Glory',\n",
       " 'TF',\n",
       " 'Fleetwood',\n",
       " 'Dec',\n",
       " 'Oliver',\n",
       " 'Dec',\n",
       " 'Piccininni',\n",
       " 'Fall',\n",
       " 'Rivera',\n",
       " 'Dec',\n",
       " 'Arujau',\n",
       " 'MD',\n",
       " 'Mueller',\n",
       " 'MD',\n",
       " 'Bresser',\n",
       " 'Dec',\n",
       " 'Lee',\n",
       " 'MD',\n",
       " 'Russell',\n",
       " 'MD',\n",
       " 'Glory',\n",
       " 'MD',\n",
       " 'Piccininni',\n",
       " 'MD',\n",
       " 'Rivera',\n",
       " 'Dec',\n",
       " 'Mueller',\n",
       " 'TB',\n",
       " 'Lee',\n",
       " 'Fall',\n",
       " 'Piccininni',\n",
       " 'Dec',\n",
       " 'Mueller',\n",
       " 'Dec',\n",
       " 'Lee',\n",
       " 'Dec',\n",
       " 'Lee',\n",
       " 'Dec',\n",
       " 'Rivera',\n",
       " 'Dec',\n",
       " 'Piccininni',\n",
       " 'Fall',\n",
       " 'Foley',\n",
       " 'Dec',\n",
       " 'Trey',\n",
       " 'Chalifoux',\n",
       " 'Devin',\n",
       " 'Schroder',\n",
       " 'Rico',\n",
       " 'Montoya',\n",
       " 'Malik',\n",
       " 'Heinselman',\n",
       " 'Gage',\n",
       " 'Curry',\n",
       " 'Jay',\n",
       " 'Schwarm',\n",
       " 'Gabe',\n",
       " 'Townsell',\n",
       " 'Christian',\n",
       " 'Moody',\n",
       " 'Bryce',\n",
       " 'West',\n",
       " 'Alex',\n",
       " 'Mackall',\n",
       " 'Cole',\n",
       " 'Verner',\n",
       " 'Dack',\n",
       " 'Punke',\n",
       " 'Alonzo',\n",
       " 'Allen',\n",
       " 'Carmen',\n",
       " 'Ferrante',\n",
       " 'Zeke',\n",
       " 'Moisey',\n",
       " 'Korbin',\n",
       " 'Meink',\n",
       " 'Schroder',\n",
       " 'MD',\n",
       " 'Oliver',\n",
       " 'Heinselman',\n",
       " 'Dec',\n",
       " 'Fleetwood',\n",
       " 'Schwarm',\n",
       " 'Fall',\n",
       " 'Piotrowski',\n",
       " 'Townsell',\n",
       " 'Dec',\n",
       " 'Fausz',\n",
       " 'Mackall',\n",
       " 'Fall',\n",
       " 'Hildebrandt',\n",
       " 'Verner',\n",
       " 'Dec',\n",
       " 'McGee',\n",
       " 'Ferrante',\n",
       " 'SV',\n",
       " 'Foley',\n",
       " 'Meink',\n",
       " 'Dec',\n",
       " 'Mattin',\n",
       " 'Schroder',\n",
       " 'Dec',\n",
       " 'Fleetwood',\n",
       " 'MD',\n",
       " 'Schwarm',\n",
       " 'Dec',\n",
       " 'Fausz',\n",
       " 'Fall',\n",
       " 'Mackall',\n",
       " 'Dec',\n",
       " 'McGee',\n",
       " 'Dec',\n",
       " 'Foley',\n",
       " 'Dec',\n",
       " 'Mattin',\n",
       " 'Dec',\n",
       " 'Fleetwood',\n",
       " 'SV',\n",
       " 'Bresser',\n",
       " 'Fausz',\n",
       " 'Dec',\n",
       " 'Arujau',\n",
       " 'McGee',\n",
       " 'Dec',\n",
       " 'Glory',\n",
       " 'Foley',\n",
       " 'Dec',\n",
       " 'Russell',\n",
       " 'Bresser',\n",
       " 'SV',\n",
       " 'Arujau',\n",
       " 'MD',\n",
       " 'Glory',\n",
       " 'Dec',\n",
       " 'Foley',\n",
       " 'MD',\n",
       " 'Arujau',\n",
       " 'Dec',\n",
       " 'Piccininni',\n",
       " 'Glory',\n",
       " 'MD',\n",
       " 'Rivera',\n",
       " 'Arujau',\n",
       " 'Dec',\n",
       " 'Rivera',\n",
       " 'Dec',\n",
       " 'Piccininni',\n",
       " 'Glory',\n",
       " 'Bresser',\n",
       " 'Foley',\n",
       " 'Evening',\n",
       " 'Evening',\n",
       " 'Trey',\n",
       " 'Chalifoux',\n",
       " 'Dec',\n",
       " 'Willy',\n",
       " 'Girard',\n",
       " 'Willy',\n",
       " 'Girard',\n",
       " 'Bryce',\n",
       " 'West',\n",
       " 'West',\n",
       " 'Dec',\n",
       " '\\n\\n']"
      ]
     },
     "execution_count": 10,
     "metadata": {},
     "output_type": "execute_result"
    }
   ],
   "source": [
    "cleaned_list"
   ]
  },
  {
   "cell_type": "code",
   "execution_count": 11,
   "metadata": {},
   "outputs": [],
   "source": [
    "all_Round1_tags = cleaned_list[0:64]"
   ]
  },
  {
   "cell_type": "code",
   "execution_count": 12,
   "metadata": {},
   "outputs": [],
   "source": [
    "ChampRound1 = []\n",
    "for i in range(63):\n",
    "    if i % 2 == 0:\n",
    "        ChampRound1.append(''.join(all_Round1_tags[i : i+2]))"
   ]
  },
  {
   "cell_type": "code",
   "execution_count": 15,
   "metadata": {},
   "outputs": [],
   "source": [
    "all_Round2_tags = cleaned_list[64:96]"
   ]
  },
  {
   "cell_type": "code",
   "execution_count": 16,
   "metadata": {},
   "outputs": [
    {
     "data": {
      "text/plain": [
       "range(0, 31)"
      ]
     },
     "execution_count": 16,
     "metadata": {},
     "output_type": "execute_result"
    }
   ],
   "source": [
    "range(0,len(all_Round2_tags)-1)"
   ]
  },
  {
   "cell_type": "code",
   "execution_count": 17,
   "metadata": {},
   "outputs": [],
   "source": [
    "for i in range(0,len(all_Round2_tags)):\n",
    "    for j in range(0,len(ChampRound1)):\n",
    "        if all_Round2_tags[i] in ChampRound1[j]:\n",
    "            all_Round2_tags[i] = ChampRound1[j]"
   ]
  },
  {
   "cell_type": "code",
   "execution_count": 18,
   "metadata": {},
   "outputs": [],
   "source": [
    "ChampRound2keys = []\n",
    "ChampRound2vals = []\n",
    "for i in range(len(all_Round2_tags)):\n",
    "    if i % 2 == 0:\n",
    "        ChampRound2keys.append(all_Round2_tags[i])\n",
    "    else:\n",
    "        ChampRound2vals.append(all_Round2_tags[i])"
   ]
  },
  {
   "cell_type": "code",
   "execution_count": 19,
   "metadata": {},
   "outputs": [],
   "source": [
    "ChampRound2 = {ChampRound2keys[i]: ChampRound2vals[i] for i in range(len(ChampRound2keys))}"
   ]
  },
  {
   "cell_type": "code",
   "execution_count": 20,
   "metadata": {},
   "outputs": [
    {
     "data": {
      "text/plain": [
       "{'SebastianRivera': 'TF',\n",
       " 'DrewMattin': 'Dec',\n",
       " 'RayVonFoley': 'TF',\n",
       " 'VitaliArujau': 'MD',\n",
       " 'JackMueller': 'Fall',\n",
       " 'MichaelMcGee': 'TF',\n",
       " 'DrewHildebrandt': 'Dec',\n",
       " 'RonnieBresser': 'Fall',\n",
       " 'SpencerLee': 'TF',\n",
       " 'SeanFausz': 'Dec',\n",
       " 'TravisPiotrowski': 'Dec',\n",
       " 'SeanRussell': 'MD',\n",
       " 'PatGlory': 'TF',\n",
       " 'BrentFleetwood': 'Dec',\n",
       " 'ElijahOliver': 'Dec',\n",
       " 'NicholasPiccininni': 'Fall'}"
      ]
     },
     "execution_count": 20,
     "metadata": {},
     "output_type": "execute_result"
    }
   ],
   "source": [
    "ChampRound2"
   ]
  },
  {
   "cell_type": "code",
   "execution_count": 21,
   "metadata": {},
   "outputs": [],
   "source": [
    "all_Round3_tags = cleaned_list[96:112]"
   ]
  },
  {
   "cell_type": "code",
   "execution_count": 22,
   "metadata": {},
   "outputs": [],
   "source": [
    "for i in range(0,len(all_Round3_tags)):\n",
    "    for j in range(0,len(ChampRound1)):\n",
    "        if all_Round3_tags[i] in ChampRound1[j]:\n",
    "            all_Round3_tags[i] = ChampRound1[j]"
   ]
  },
  {
   "cell_type": "code",
   "execution_count": 23,
   "metadata": {},
   "outputs": [],
   "source": [
    "ChampRound3keys = []\n",
    "ChampRound3vals = []\n",
    "for i in range(len(all_Round3_tags)):\n",
    "    if i % 2 == 0:\n",
    "        ChampRound3keys.append(all_Round3_tags[i])\n",
    "    else:\n",
    "        ChampRound3vals.append(all_Round3_tags[i])"
   ]
  },
  {
   "cell_type": "code",
   "execution_count": 24,
   "metadata": {},
   "outputs": [],
   "source": [
    "ChampRound3 = {ChampRound3keys[i]: ChampRound3vals[i] for i in range(len(ChampRound3keys))}"
   ]
  },
  {
   "cell_type": "code",
   "execution_count": 25,
   "metadata": {},
   "outputs": [
    {
     "data": {
      "text/plain": [
       "{'SebastianRivera': 'Dec',\n",
       " 'VitaliArujau': 'MD',\n",
       " 'JackMueller': 'MD',\n",
       " 'RonnieBresser': 'Dec',\n",
       " 'SpencerLee': 'MD',\n",
       " 'SeanRussell': 'MD',\n",
       " 'PatGlory': 'MD',\n",
       " 'NicholasPiccininni': 'MD'}"
      ]
     },
     "execution_count": 25,
     "metadata": {},
     "output_type": "execute_result"
    }
   ],
   "source": [
    "ChampRound3"
   ]
  },
  {
   "cell_type": "code",
   "execution_count": 26,
   "metadata": {},
   "outputs": [],
   "source": [
    "all_Round4_tags = cleaned_list[112:120]"
   ]
  },
  {
   "cell_type": "code",
   "execution_count": 27,
   "metadata": {},
   "outputs": [],
   "source": [
    "for i in range(0,len(all_Round4_tags)):\n",
    "    for j in range(0,len(ChampRound1)):\n",
    "        if all_Round4_tags[i] in ChampRound1[j]:\n",
    "            all_Round4_tags[i] = ChampRound1[j]"
   ]
  },
  {
   "cell_type": "code",
   "execution_count": 28,
   "metadata": {},
   "outputs": [],
   "source": [
    "ChampRound4keys = []\n",
    "ChampRound4vals = []\n",
    "for i in range(len(all_Round4_tags)):\n",
    "    if i % 2 == 0:\n",
    "        ChampRound4keys.append(all_Round4_tags[i])\n",
    "    else:\n",
    "        ChampRound4vals.append(all_Round4_tags[i])"
   ]
  },
  {
   "cell_type": "code",
   "execution_count": 29,
   "metadata": {},
   "outputs": [],
   "source": [
    "ChampRound4 = {ChampRound4keys[i]: ChampRound4vals[i] for i in range(len(ChampRound4keys))}"
   ]
  },
  {
   "cell_type": "code",
   "execution_count": 30,
   "metadata": {},
   "outputs": [
    {
     "data": {
      "text/plain": [
       "{'SebastianRivera': 'Dec',\n",
       " 'JackMueller': 'TB',\n",
       " 'SpencerLee': 'Fall',\n",
       " 'NicholasPiccininni': 'Dec'}"
      ]
     },
     "execution_count": 30,
     "metadata": {},
     "output_type": "execute_result"
    }
   ],
   "source": [
    "ChampRound4"
   ]
  },
  {
   "cell_type": "code",
   "execution_count": 31,
   "metadata": {},
   "outputs": [],
   "source": [
    "all_ChampFinals_tags = cleaned_list[120:124]"
   ]
  },
  {
   "cell_type": "code",
   "execution_count": 32,
   "metadata": {},
   "outputs": [],
   "source": [
    "for i in range(0,len(all_ChampFinals_tags)):\n",
    "    for j in range(0,len(ChampRound1)):\n",
    "        if all_ChampFinals_tags[i] in ChampRound1[j]:\n",
    "            all_ChampFinals_tags[i] = ChampRound1[j]"
   ]
  },
  {
   "cell_type": "code",
   "execution_count": 33,
   "metadata": {},
   "outputs": [],
   "source": [
    "ChampFinalskeys = []\n",
    "ChampFinalsvals = []\n",
    "for i in range(len(all_ChampFinals_tags)):\n",
    "    if i % 2 == 0:\n",
    "        ChampFinalskeys.append(all_ChampFinals_tags[i])\n",
    "    else:\n",
    "        ChampFinalsvals.append(all_ChampFinals_tags[i])"
   ]
  },
  {
   "cell_type": "code",
   "execution_count": 34,
   "metadata": {},
   "outputs": [],
   "source": [
    "ChampFinals = {ChampFinalskeys[i]: ChampFinalsvals[i] for i in range(len(ChampFinalskeys))}"
   ]
  },
  {
   "cell_type": "code",
   "execution_count": 35,
   "metadata": {},
   "outputs": [
    {
     "data": {
      "text/plain": [
       "{'JackMueller': 'Dec', 'SpencerLee': 'Dec'}"
      ]
     },
     "execution_count": 35,
     "metadata": {},
     "output_type": "execute_result"
    }
   ],
   "source": [
    "ChampFinals"
   ]
  },
  {
   "cell_type": "code",
   "execution_count": 36,
   "metadata": {},
   "outputs": [],
   "source": [
    "Champion_list = cleaned_list[124:126]"
   ]
  },
  {
   "cell_type": "code",
   "execution_count": 37,
   "metadata": {},
   "outputs": [],
   "source": [
    "for i in range(0,len(ChampRound1)):\n",
    "    if Champion_list[0] in ChampRound1[i]:\n",
    "        Champion_list[0] = ChampRound1[i]"
   ]
  },
  {
   "cell_type": "code",
   "execution_count": 38,
   "metadata": {},
   "outputs": [],
   "source": [
    "Champion = {Champion_list[0]:Champion_list[1]}"
   ]
  },
  {
   "cell_type": "code",
   "execution_count": 45,
   "metadata": {},
   "outputs": [
    {
     "data": {
      "text/plain": [
       "['Rivera', 'Dec', 'Piccininni', 'Fall', 'Foley', 'Dec']"
      ]
     },
     "execution_count": 45,
     "metadata": {},
     "output_type": "execute_result"
    }
   ],
   "source": [
    "placing_rounds = cleaned_list[126:132]\n",
    "placing_rounds"
   ]
  },
  {
   "cell_type": "code",
   "execution_count": 53,
   "metadata": {},
   "outputs": [],
   "source": [
    "columns = ['Round1','Round2','Round3','Round4','Finals']"
   ]
  },
  {
   "cell_type": "code",
   "execution_count": 54,
   "metadata": {},
   "outputs": [],
   "source": [
    "champ_bracket_dict_for_pd = {}"
   ]
  },
  {
   "cell_type": "code",
   "execution_count": 55,
   "metadata": {},
   "outputs": [],
   "source": [
    "for i in range(0,len(ChampRound1)):\n",
    "    champ_bracket_dict_for_pd.update({ChampRound1[i]:[]})"
   ]
  },
  {
   "cell_type": "code",
   "execution_count": 56,
   "metadata": {},
   "outputs": [],
   "source": [
    "for key in ChampRound2.keys():\n",
    "    champ_bracket_dict_for_pd[key].append(ChampRound2[key])"
   ]
  },
  {
   "cell_type": "code",
   "execution_count": 57,
   "metadata": {},
   "outputs": [],
   "source": [
    "for key in ChampRound3.keys():\n",
    "    champ_bracket_dict_for_pd[key].append(ChampRound3[key])"
   ]
  },
  {
   "cell_type": "code",
   "execution_count": 58,
   "metadata": {},
   "outputs": [],
   "source": [
    "for key in ChampRound4.keys():\n",
    "    champ_bracket_dict_for_pd[key].append(ChampRound4[key])"
   ]
  },
  {
   "cell_type": "code",
   "execution_count": 59,
   "metadata": {},
   "outputs": [],
   "source": [
    "for key in ChampFinals.keys():\n",
    "    champ_bracket_dict_for_pd[key].append(ChampFinals[key])"
   ]
  },
  {
   "cell_type": "code",
   "execution_count": 60,
   "metadata": {},
   "outputs": [],
   "source": [
    "for key in Champion.keys():\n",
    "    champ_bracket_dict_for_pd[key].append(Champion[key])"
   ]
  },
  {
   "cell_type": "code",
   "execution_count": 63,
   "metadata": {},
   "outputs": [],
   "source": [
    "for key in champ_bracket_dict_for_pd.keys():\n",
    "    if len(champ_bracket_dict_for_pd[key])<5:\n",
    "        champ_bracket_dict_for_pd[key].append('')\n",
    "    if len(champ_bracket_dict_for_pd[key])<5:\n",
    "        champ_bracket_dict_for_pd[key].append('')\n",
    "    if len(champ_bracket_dict_for_pd[key])<5:\n",
    "        champ_bracket_dict_for_pd[key].append('')\n",
    "    if len(champ_bracket_dict_for_pd[key])<5:\n",
    "        champ_bracket_dict_for_pd[key].append('')\n",
    "    if len(champ_bracket_dict_for_pd[key])<5:\n",
    "        champ_bracket_dict_for_pd[key].append('')"
   ]
  },
  {
   "cell_type": "code",
   "execution_count": 64,
   "metadata": {},
   "outputs": [
    {
     "data": {
      "text/plain": [
       "{'SebastianRivera': ['TF', 'Dec', 'Dec', 'Dec', ''],\n",
       " 'TreyChalifoux': ['', '', '', '', ''],\n",
       " 'DevinSchroder': ['', '', '', '', ''],\n",
       " 'DrewMattin': ['Dec', '', '', '', ''],\n",
       " 'RayVonFoley': ['TF', 'Dec', '', '', ''],\n",
       " 'RicoMontoya': ['', '', '', '', ''],\n",
       " 'MalikHeinselman': ['', '', '', '', ''],\n",
       " 'VitaliArujau': ['MD', 'MD', '', '', ''],\n",
       " 'JackMueller': ['Fall', 'MD', 'TB', 'Dec', ''],\n",
       " 'GageCurry': ['', '', '', '', ''],\n",
       " 'JaySchwarm': ['', '', '', '', ''],\n",
       " 'MichaelMcGee': ['TF', '', '', '', ''],\n",
       " 'DrewHildebrandt': ['Dec', '', '', '', ''],\n",
       " 'GabeTownsell': ['', '', '', '', ''],\n",
       " 'ChristianMoody': ['', '', '', '', ''],\n",
       " 'RonnieBresser': ['Fall', 'Dec', '', '', ''],\n",
       " 'SpencerLee': ['TF', 'MD', 'Fall', 'Dec', 'Dec'],\n",
       " 'BryceWest': ['', '', '', '', ''],\n",
       " 'AlexMackall': ['', '', '', '', ''],\n",
       " 'SeanFausz': ['Dec', '', '', '', ''],\n",
       " 'TravisPiotrowski': ['Dec', '', '', '', ''],\n",
       " 'ColeVerner': ['', '', '', '', ''],\n",
       " 'DackPunke': ['', '', '', '', ''],\n",
       " 'SeanRussell': ['MD', 'MD', '', '', ''],\n",
       " 'PatGlory': ['TF', 'MD', '', '', ''],\n",
       " 'AlonzoAllen': ['', '', '', '', ''],\n",
       " 'CarmenFerrante': ['', '', '', '', ''],\n",
       " 'BrentFleetwood': ['Dec', '', '', '', ''],\n",
       " 'ElijahOliver': ['Dec', '', '', '', ''],\n",
       " 'ZekeMoisey': ['', '', '', '', ''],\n",
       " 'KorbinMeink': ['', '', '', '', ''],\n",
       " 'NicholasPiccininni': ['Fall', 'MD', 'Dec', 'Fall', '']}"
      ]
     },
     "execution_count": 64,
     "metadata": {},
     "output_type": "execute_result"
    }
   ],
   "source": [
    "champ_bracket_dict_for_pd"
   ]
  },
  {
   "cell_type": "code",
   "execution_count": 918,
   "metadata": {},
   "outputs": [],
   "source": [
    "champ_bracket_df = pd.DataFrame(champ_bracket_dict_for_pd)"
   ]
  },
  {
   "cell_type": "code",
   "execution_count": 919,
   "metadata": {},
   "outputs": [],
   "source": [
    "champ_bracket_df = champ_bracket_df.transpose()"
   ]
  },
  {
   "cell_type": "code",
   "execution_count": 920,
   "metadata": {},
   "outputs": [],
   "source": [
    "champ_bracket_df.columns=columns"
   ]
  },
  {
   "cell_type": "code",
   "execution_count": 921,
   "metadata": {},
   "outputs": [],
   "source": [
    "champ_285_df = champ_bracket_df"
   ]
  },
  {
   "cell_type": "code",
   "execution_count": 937,
   "metadata": {},
   "outputs": [
    {
     "data": {
      "text/html": [
       "<div>\n",
       "<style scoped>\n",
       "    .dataframe tbody tr th:only-of-type {\n",
       "        vertical-align: middle;\n",
       "    }\n",
       "\n",
       "    .dataframe tbody tr th {\n",
       "        vertical-align: top;\n",
       "    }\n",
       "\n",
       "    .dataframe thead th {\n",
       "        text-align: right;\n",
       "    }\n",
       "</style>\n",
       "<table border=\"1\" class=\"dataframe\">\n",
       "  <thead>\n",
       "    <tr style=\"text-align: right;\">\n",
       "      <th></th>\n",
       "      <th>Round1</th>\n",
       "      <th>Round2</th>\n",
       "      <th>Round3</th>\n",
       "      <th>Round4</th>\n",
       "      <th>Finals</th>\n",
       "    </tr>\n",
       "  </thead>\n",
       "  <tbody>\n",
       "    <tr>\n",
       "      <th>DerekWhite</th>\n",
       "      <td>MD</td>\n",
       "      <td>Dec</td>\n",
       "      <td>Dec</td>\n",
       "      <td>SV</td>\n",
       "      <td></td>\n",
       "    </tr>\n",
       "    <tr>\n",
       "      <th>BrandonNgati</th>\n",
       "      <td></td>\n",
       "      <td></td>\n",
       "      <td></td>\n",
       "      <td></td>\n",
       "      <td></td>\n",
       "    </tr>\n",
       "    <tr>\n",
       "      <th>DavidJensen</th>\n",
       "      <td></td>\n",
       "      <td></td>\n",
       "      <td></td>\n",
       "      <td></td>\n",
       "      <td></td>\n",
       "    </tr>\n",
       "    <tr>\n",
       "      <th>ChaseSingletary</th>\n",
       "      <td>Dec</td>\n",
       "      <td></td>\n",
       "      <td></td>\n",
       "      <td></td>\n",
       "      <td></td>\n",
       "    </tr>\n",
       "    <tr>\n",
       "      <th>MattStencel</th>\n",
       "      <td>Dec</td>\n",
       "      <td>MD</td>\n",
       "      <td></td>\n",
       "      <td></td>\n",
       "      <td></td>\n",
       "    </tr>\n",
       "    <tr>\n",
       "      <th>HaydnMaley</th>\n",
       "      <td></td>\n",
       "      <td></td>\n",
       "      <td></td>\n",
       "      <td></td>\n",
       "      <td></td>\n",
       "    </tr>\n",
       "    <tr>\n",
       "      <th>GannonGremmel</th>\n",
       "      <td></td>\n",
       "      <td></td>\n",
       "      <td></td>\n",
       "      <td></td>\n",
       "      <td></td>\n",
       "    </tr>\n",
       "    <tr>\n",
       "      <th>DemetriusThomas</th>\n",
       "      <td>Dec</td>\n",
       "      <td></td>\n",
       "      <td></td>\n",
       "      <td></td>\n",
       "      <td></td>\n",
       "    </tr>\n",
       "    <tr>\n",
       "      <th>MasonParris</th>\n",
       "      <td></td>\n",
       "      <td></td>\n",
       "      <td></td>\n",
       "      <td></td>\n",
       "      <td></td>\n",
       "    </tr>\n",
       "    <tr>\n",
       "      <th>SamStoll</th>\n",
       "      <td>Dec</td>\n",
       "      <td>Dec</td>\n",
       "      <td></td>\n",
       "      <td></td>\n",
       "      <td></td>\n",
       "    </tr>\n",
       "    <tr>\n",
       "      <th>CoryGillilandDaniel</th>\n",
       "      <td></td>\n",
       "      <td></td>\n",
       "      <td></td>\n",
       "      <td></td>\n",
       "      <td></td>\n",
       "    </tr>\n",
       "    <tr>\n",
       "      <th>ConanJennings</th>\n",
       "      <td>Dec</td>\n",
       "      <td></td>\n",
       "      <td></td>\n",
       "      <td></td>\n",
       "      <td></td>\n",
       "    </tr>\n",
       "    <tr>\n",
       "      <th>MattVoss</th>\n",
       "      <td></td>\n",
       "      <td></td>\n",
       "      <td></td>\n",
       "      <td></td>\n",
       "      <td></td>\n",
       "    </tr>\n",
       "    <tr>\n",
       "      <th>ZachElam</th>\n",
       "      <td>SV</td>\n",
       "      <td></td>\n",
       "      <td></td>\n",
       "      <td></td>\n",
       "      <td></td>\n",
       "    </tr>\n",
       "    <tr>\n",
       "      <th>ColtonMcKiernan</th>\n",
       "      <td></td>\n",
       "      <td></td>\n",
       "      <td></td>\n",
       "      <td></td>\n",
       "      <td></td>\n",
       "    </tr>\n",
       "    <tr>\n",
       "      <th>JordanWood</th>\n",
       "      <td>Dec</td>\n",
       "      <td>Dec</td>\n",
       "      <td>Dec</td>\n",
       "      <td></td>\n",
       "      <td></td>\n",
       "    </tr>\n",
       "    <tr>\n",
       "      <th>GableSteveson</th>\n",
       "      <td>TF</td>\n",
       "      <td>MD</td>\n",
       "      <td>MD</td>\n",
       "      <td></td>\n",
       "      <td></td>\n",
       "    </tr>\n",
       "    <tr>\n",
       "      <th>ZackParker</th>\n",
       "      <td></td>\n",
       "      <td></td>\n",
       "      <td></td>\n",
       "      <td></td>\n",
       "      <td></td>\n",
       "    </tr>\n",
       "    <tr>\n",
       "      <th>BrianAndrews</th>\n",
       "      <td>Dec</td>\n",
       "      <td></td>\n",
       "      <td></td>\n",
       "      <td></td>\n",
       "      <td></td>\n",
       "    </tr>\n",
       "    <tr>\n",
       "      <th>AjNevills</th>\n",
       "      <td></td>\n",
       "      <td></td>\n",
       "      <td></td>\n",
       "      <td></td>\n",
       "      <td></td>\n",
       "    </tr>\n",
       "    <tr>\n",
       "      <th>ThomasHaines</th>\n",
       "      <td>MD</td>\n",
       "      <td></td>\n",
       "      <td></td>\n",
       "      <td></td>\n",
       "      <td></td>\n",
       "    </tr>\n",
       "    <tr>\n",
       "      <th>BillyMiller</th>\n",
       "      <td></td>\n",
       "      <td></td>\n",
       "      <td></td>\n",
       "      <td></td>\n",
       "      <td></td>\n",
       "    </tr>\n",
       "    <tr>\n",
       "      <th>CaryMiller</th>\n",
       "      <td></td>\n",
       "      <td></td>\n",
       "      <td></td>\n",
       "      <td></td>\n",
       "      <td></td>\n",
       "    </tr>\n",
       "    <tr>\n",
       "      <th>AmarDhesi</th>\n",
       "      <td>MD</td>\n",
       "      <td>TF</td>\n",
       "      <td></td>\n",
       "      <td></td>\n",
       "      <td></td>\n",
       "    </tr>\n",
       "    <tr>\n",
       "      <th>TrentHillger</th>\n",
       "      <td>Dec</td>\n",
       "      <td>Dec</td>\n",
       "      <td></td>\n",
       "      <td></td>\n",
       "      <td></td>\n",
       "    </tr>\n",
       "    <tr>\n",
       "      <th>IanButterbrodt</th>\n",
       "      <td></td>\n",
       "      <td></td>\n",
       "      <td></td>\n",
       "      <td></td>\n",
       "      <td></td>\n",
       "    </tr>\n",
       "    <tr>\n",
       "      <th>JeramySweany</th>\n",
       "      <td></td>\n",
       "      <td></td>\n",
       "      <td></td>\n",
       "      <td></td>\n",
       "      <td></td>\n",
       "    </tr>\n",
       "    <tr>\n",
       "      <th>YoussifHemida</th>\n",
       "      <td>Dec</td>\n",
       "      <td></td>\n",
       "      <td></td>\n",
       "      <td></td>\n",
       "      <td></td>\n",
       "    </tr>\n",
       "    <tr>\n",
       "      <th>TateOrndorff</th>\n",
       "      <td>Dec</td>\n",
       "      <td></td>\n",
       "      <td></td>\n",
       "      <td></td>\n",
       "      <td></td>\n",
       "    </tr>\n",
       "    <tr>\n",
       "      <th>JosephGoodhart</th>\n",
       "      <td></td>\n",
       "      <td></td>\n",
       "      <td></td>\n",
       "      <td></td>\n",
       "      <td></td>\n",
       "    </tr>\n",
       "    <tr>\n",
       "      <th>AntonioPelusi</th>\n",
       "      <td></td>\n",
       "      <td></td>\n",
       "      <td></td>\n",
       "      <td></td>\n",
       "      <td></td>\n",
       "    </tr>\n",
       "    <tr>\n",
       "      <th>AnthonyCassar</th>\n",
       "      <td>Fall</td>\n",
       "      <td>MD</td>\n",
       "      <td>Dec</td>\n",
       "      <td>Dec</td>\n",
       "      <td>MD</td>\n",
       "    </tr>\n",
       "  </tbody>\n",
       "</table>\n",
       "</div>"
      ],
      "text/plain": [
       "                    Round1 Round2 Round3 Round4 Finals\n",
       "DerekWhite              MD    Dec    Dec     SV       \n",
       "BrandonNgati                                          \n",
       "DavidJensen                                           \n",
       "ChaseSingletary        Dec                            \n",
       "MattStencel            Dec     MD                     \n",
       "HaydnMaley                                            \n",
       "GannonGremmel                                         \n",
       "DemetriusThomas        Dec                            \n",
       "MasonParris                                           \n",
       "SamStoll               Dec    Dec                     \n",
       "CoryGillilandDaniel                                   \n",
       "ConanJennings          Dec                            \n",
       "MattVoss                                              \n",
       "ZachElam                SV                            \n",
       "ColtonMcKiernan                                       \n",
       "JordanWood             Dec    Dec    Dec              \n",
       "GableSteveson           TF     MD     MD              \n",
       "ZackParker                                            \n",
       "BrianAndrews           Dec                            \n",
       "AjNevills                                             \n",
       "ThomasHaines            MD                            \n",
       "BillyMiller                                           \n",
       "CaryMiller                                            \n",
       "AmarDhesi               MD     TF                     \n",
       "TrentHillger           Dec    Dec                     \n",
       "IanButterbrodt                                        \n",
       "JeramySweany                                          \n",
       "YoussifHemida          Dec                            \n",
       "TateOrndorff           Dec                            \n",
       "JosephGoodhart                                        \n",
       "AntonioPelusi                                         \n",
       "AnthonyCassar         Fall     MD    Dec    Dec     MD"
      ]
     },
     "execution_count": 937,
     "metadata": {},
     "output_type": "execute_result"
    }
   ],
   "source": [
    "champ_285_df"
   ]
  },
  {
   "cell_type": "code",
   "execution_count": 936,
   "metadata": {},
   "outputs": [],
   "source": [
    "champ_285_df.to_csv(r'C:\\Users\\fq1228hj\\Documents\\NCAA Wrestling\\champ_285_df.csv')"
   ]
  },
  {
   "cell_type": "code",
   "execution_count": null,
   "metadata": {},
   "outputs": [],
   "source": []
  }
 ],
 "metadata": {
  "kernelspec": {
   "display_name": "Python 3",
   "language": "python",
   "name": "python3"
  },
  "language_info": {
   "codemirror_mode": {
    "name": "ipython",
    "version": 3
   },
   "file_extension": ".py",
   "mimetype": "text/x-python",
   "name": "python",
   "nbconvert_exporter": "python",
   "pygments_lexer": "ipython3",
   "version": "3.7.6"
  }
 },
 "nbformat": 4,
 "nbformat_minor": 2
}
