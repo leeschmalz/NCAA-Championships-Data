{
 "cells": [
  {
   "cell_type": "code",
   "execution_count": 1,
   "metadata": {},
   "outputs": [],
   "source": [
    "import re\n",
    "import pandas as pd\n",
    "import numpy as np\n",
    "\n",
    "with open('NCAAwrestling1.txt') as myFile:\n",
    "    text = myFile.read()\n",
    "result = text.split('2019 NCAA Division I Wrestling Championships')\n",
    "\n",
    "doc_125 = result[1]\n",
    "doc_133 = result[2]\n",
    "doc_141 = result[3]\n",
    "doc_149 = result[4]\n",
    "doc_157 = result[5]\n",
    "doc_165 = result[6]\n",
    "doc_174 = result[7]\n",
    "doc_184 = result[8]\n",
    "doc_197 = result[9]\n",
    "doc_285 = result[10]\n",
    "\n",
    "words_list = re.split(\"[- )(]+\", doc_285)\n",
    "\n",
    "list1 = []\n",
    "for item in words_list:\n",
    "    if '0' not in item and '1' not in item and '2' not in item and '3' not in item and '4' not in item and '5' not in item and '6' not in item and '7' not in item and '8' not in item and '9' not in item and 'day' not in item:\n",
    "        list1.append(item)\n",
    "\n",
    "def caps_func(string):\n",
    "    if string.isupper() and string != 'TF' and string != 'MD' and string!='TB' and string!='DQ' and string!='SV' and string!= 'DJ':\n",
    "        return False\n",
    "    else:\n",
    "        return True\n",
    "\n",
    "list2 = list(filter(caps_func,list1))\n",
    "\n",
    "def remove_stop_words(string):\n",
    "    if string == '' or string == 'Championships' or string == 'Morning' or string == 'Night' or string == 'Division' or string == 'Wrestling' or string == 'Place' or string == 'Third' or string == 'Fifth' or string == 'Seventh' or string == 'Loser' or string == 'of':\n",
    "        return False\n",
    "    else:\n",
    "        return True\n",
    "\n",
    "cleaned_list = list(filter(remove_stop_words,list2))\n",
    "\n",
    "all_Round1_tags = cleaned_list[0:64]\n",
    "\n",
    "ChampRound1 = []\n",
    "for i in range(63):\n",
    "    if i % 2 == 0:\n",
    "        ChampRound1.append(''.join(all_Round1_tags[i : i+2]))"
   ]
  },
  {
   "cell_type": "code",
   "execution_count": 2,
   "metadata": {},
   "outputs": [
    {
     "data": {
      "text/plain": [
       "['DerekWhite',\n",
       " 'BrandonNgati',\n",
       " 'DavidJensen',\n",
       " 'ChaseSingletary',\n",
       " 'MattStencel',\n",
       " 'HaydnMaley',\n",
       " 'GannonGremmel',\n",
       " 'DemetriusThomas',\n",
       " 'MasonParris',\n",
       " 'SamStoll',\n",
       " 'CoryGillilandDaniel',\n",
       " 'ConanJennings',\n",
       " 'MattVoss',\n",
       " 'ZachElam',\n",
       " 'ColtonMcKiernan',\n",
       " 'JordanWood',\n",
       " 'GableSteveson',\n",
       " 'ZackParker',\n",
       " 'BrianAndrews',\n",
       " 'AjNevills',\n",
       " 'ThomasHaines',\n",
       " 'BillyMiller',\n",
       " 'CaryMiller',\n",
       " 'AmarDhesi',\n",
       " 'TrentHillger',\n",
       " 'IanButterbrodt',\n",
       " 'JeramySweany',\n",
       " 'YoussifHemida',\n",
       " 'TateOrndorff',\n",
       " 'JosephGoodhart',\n",
       " 'AntonioPelusi',\n",
       " 'AnthonyCassar']"
      ]
     },
     "execution_count": 2,
     "metadata": {},
     "output_type": "execute_result"
    }
   ],
   "source": [
    "ChampRound1"
   ]
  },
  {
   "cell_type": "code",
   "execution_count": 4,
   "metadata": {},
   "outputs": [],
   "source": [
    "third_place_match = cleaned_list[126:128]\n",
    "fifth_place_match = cleaned_list[128:130]\n",
    "seventh_place_match = cleaned_list[130:132]"
   ]
  },
  {
   "cell_type": "code",
   "execution_count": 5,
   "metadata": {},
   "outputs": [],
   "source": [
    "for i in range(0,len(third_place_match)):\n",
    "    for j in range(0,len(ChampRound1)):\n",
    "        if third_place_match[i] in ChampRound1[j]:\n",
    "            third_place_match[i] = ChampRound1[j]\n",
    "for i in range(0,len(third_place_match)):\n",
    "    for j in range(0,len(ChampRound1)):\n",
    "        if fifth_place_match[i] in ChampRound1[j]:\n",
    "            fifth_place_match[i] = ChampRound1[j]\n",
    "for i in range(0,len(seventh_place_match)):\n",
    "    for j in range(0,len(ChampRound1)):\n",
    "        if seventh_place_match[i] in ChampRound1[j]:\n",
    "            seventh_place_match[i] = ChampRound1[j]"
   ]
  },
  {
   "cell_type": "code",
   "execution_count": 6,
   "metadata": {},
   "outputs": [],
   "source": [
    "third_placekeys = []\n",
    "third_placevals = []\n",
    "for i in range(len(third_place_match)):\n",
    "    if i % 2 == 0:\n",
    "        third_placekeys.append(third_place_match[i])\n",
    "    else:\n",
    "        third_placevals.append(third_place_match[i])"
   ]
  },
  {
   "cell_type": "code",
   "execution_count": 7,
   "metadata": {},
   "outputs": [],
   "source": [
    "for i in range(len(ChampRound1)):\n",
    "    if ChampRound1[i] not in third_placekeys:\n",
    "        third_placekeys.append(ChampRound1[i])\n",
    "        third_placevals.append('')"
   ]
  },
  {
   "cell_type": "code",
   "execution_count": 8,
   "metadata": {},
   "outputs": [],
   "source": [
    "third_place = {third_placekeys[i]: third_placevals[i] for i in range(len(third_placekeys))}"
   ]
  },
  {
   "cell_type": "code",
   "execution_count": 9,
   "metadata": {},
   "outputs": [
    {
     "data": {
      "text/plain": [
       "{'GableSteveson': 'Dec',\n",
       " 'DerekWhite': '',\n",
       " 'BrandonNgati': '',\n",
       " 'DavidJensen': '',\n",
       " 'ChaseSingletary': '',\n",
       " 'MattStencel': '',\n",
       " 'HaydnMaley': '',\n",
       " 'GannonGremmel': '',\n",
       " 'DemetriusThomas': '',\n",
       " 'MasonParris': '',\n",
       " 'SamStoll': '',\n",
       " 'CoryGillilandDaniel': '',\n",
       " 'ConanJennings': '',\n",
       " 'MattVoss': '',\n",
       " 'ZachElam': '',\n",
       " 'ColtonMcKiernan': '',\n",
       " 'JordanWood': '',\n",
       " 'ZackParker': '',\n",
       " 'BrianAndrews': '',\n",
       " 'AjNevills': '',\n",
       " 'ThomasHaines': '',\n",
       " 'BillyMiller': '',\n",
       " 'CaryMiller': '',\n",
       " 'AmarDhesi': '',\n",
       " 'TrentHillger': '',\n",
       " 'IanButterbrodt': '',\n",
       " 'JeramySweany': '',\n",
       " 'YoussifHemida': '',\n",
       " 'TateOrndorff': '',\n",
       " 'JosephGoodhart': '',\n",
       " 'AntonioPelusi': '',\n",
       " 'AnthonyCassar': '',\n",
       " 'JacobAven': ''}"
      ]
     },
     "execution_count": 9,
     "metadata": {},
     "output_type": "execute_result"
    }
   ],
   "source": [
    "third_place"
   ]
  },
  {
   "cell_type": "code",
   "execution_count": 10,
   "metadata": {},
   "outputs": [],
   "source": [
    "fifth_placekeys = []\n",
    "fifth_placevals = []\n",
    "for i in range(len(fifth_place_match)):\n",
    "    if i % 2 == 0:\n",
    "        fifth_placekeys.append(fifth_place_match[i])\n",
    "    else:\n",
    "        fifth_placevals.append(fifth_place_match[i])"
   ]
  },
  {
   "cell_type": "code",
   "execution_count": 11,
   "metadata": {},
   "outputs": [],
   "source": [
    "for i in range(len(ChampRound1)):\n",
    "    if ChampRound1[i] not in fifth_placekeys:\n",
    "        fifth_placekeys.append(ChampRound1[i])\n",
    "        fifth_placevals.append('')"
   ]
  },
  {
   "cell_type": "code",
   "execution_count": 12,
   "metadata": {},
   "outputs": [],
   "source": [
    "fifth_place = {fifth_placekeys[i]: fifth_placevals[i] for i in range(len(fifth_placekeys))}"
   ]
  },
  {
   "cell_type": "code",
   "execution_count": 13,
   "metadata": {},
   "outputs": [
    {
     "data": {
      "text/plain": [
       "{'AmarDhesi': 'Dec',\n",
       " 'DerekWhite': '',\n",
       " 'BrandonNgati': '',\n",
       " 'DavidJensen': '',\n",
       " 'ChaseSingletary': '',\n",
       " 'MattStencel': '',\n",
       " 'HaydnMaley': '',\n",
       " 'GannonGremmel': '',\n",
       " 'DemetriusThomas': '',\n",
       " 'MasonParris': '',\n",
       " 'SamStoll': '',\n",
       " 'CoryGillilandDaniel': '',\n",
       " 'ConanJennings': '',\n",
       " 'MattVoss': '',\n",
       " 'ZachElam': '',\n",
       " 'ColtonMcKiernan': '',\n",
       " 'JordanWood': '',\n",
       " 'GableSteveson': '',\n",
       " 'ZackParker': '',\n",
       " 'BrianAndrews': '',\n",
       " 'AjNevills': '',\n",
       " 'ThomasHaines': '',\n",
       " 'BillyMiller': '',\n",
       " 'CaryMiller': '',\n",
       " 'TrentHillger': '',\n",
       " 'IanButterbrodt': '',\n",
       " 'JeramySweany': '',\n",
       " 'YoussifHemida': '',\n",
       " 'TateOrndorff': '',\n",
       " 'JosephGoodhart': '',\n",
       " 'AntonioPelusi': '',\n",
       " 'AnthonyCassar': '',\n",
       " 'JacobAven': ''}"
      ]
     },
     "execution_count": 13,
     "metadata": {},
     "output_type": "execute_result"
    }
   ],
   "source": [
    "fifth_place"
   ]
  },
  {
   "cell_type": "code",
   "execution_count": 14,
   "metadata": {},
   "outputs": [],
   "source": [
    "seventh_placekeys = []\n",
    "seventh_placevals = []\n",
    "for i in range(len(seventh_place_match)):\n",
    "    if i % 2 == 0:\n",
    "        seventh_placekeys.append(seventh_place_match[i])\n",
    "    else:\n",
    "        seventh_placevals.append(seventh_place_match[i])"
   ]
  },
  {
   "cell_type": "code",
   "execution_count": 15,
   "metadata": {},
   "outputs": [],
   "source": [
    "for i in range(len(ChampRound1)):\n",
    "    if ChampRound1[i] not in seventh_placekeys:\n",
    "        seventh_placekeys.append(ChampRound1[i])\n",
    "        seventh_placevals.append('')"
   ]
  },
  {
   "cell_type": "code",
   "execution_count": 16,
   "metadata": {},
   "outputs": [],
   "source": [
    "seventh_place = {seventh_placekeys[i]: seventh_placevals[i] for i in range(len(seventh_placekeys))}"
   ]
  },
  {
   "cell_type": "code",
   "execution_count": 17,
   "metadata": {},
   "outputs": [
    {
     "data": {
      "text/plain": [
       "{'MattStencel': 'Dec',\n",
       " 'DerekWhite': '',\n",
       " 'BrandonNgati': '',\n",
       " 'DavidJensen': '',\n",
       " 'ChaseSingletary': '',\n",
       " 'HaydnMaley': '',\n",
       " 'GannonGremmel': '',\n",
       " 'DemetriusThomas': '',\n",
       " 'MasonParris': '',\n",
       " 'SamStoll': '',\n",
       " 'CoryGillilandDaniel': '',\n",
       " 'ConanJennings': '',\n",
       " 'MattVoss': '',\n",
       " 'ZachElam': '',\n",
       " 'ColtonMcKiernan': '',\n",
       " 'JordanWood': '',\n",
       " 'GableSteveson': '',\n",
       " 'ZackParker': '',\n",
       " 'BrianAndrews': '',\n",
       " 'AjNevills': '',\n",
       " 'ThomasHaines': '',\n",
       " 'BillyMiller': '',\n",
       " 'CaryMiller': '',\n",
       " 'AmarDhesi': '',\n",
       " 'TrentHillger': '',\n",
       " 'IanButterbrodt': '',\n",
       " 'JeramySweany': '',\n",
       " 'YoussifHemida': '',\n",
       " 'TateOrndorff': '',\n",
       " 'JosephGoodhart': '',\n",
       " 'AntonioPelusi': '',\n",
       " 'AnthonyCassar': '',\n",
       " 'JacobAven': ''}"
      ]
     },
     "execution_count": 17,
     "metadata": {},
     "output_type": "execute_result"
    }
   ],
   "source": [
    "seventh_place"
   ]
  },
  {
   "cell_type": "code",
   "execution_count": 18,
   "metadata": {},
   "outputs": [],
   "source": [
    "all_ConsRound1_tags = cleaned_list[132:164]"
   ]
  },
  {
   "cell_type": "code",
   "execution_count": 19,
   "metadata": {},
   "outputs": [
    {
     "data": {
      "text/plain": [
       "['Brandon',\n",
       " 'Ngati',\n",
       " 'David',\n",
       " 'Jensen',\n",
       " 'Haydn',\n",
       " 'Maley',\n",
       " 'Gannon',\n",
       " 'Gremmel',\n",
       " 'Mason',\n",
       " 'Parris',\n",
       " 'Cory',\n",
       " 'GillilandDaniel',\n",
       " 'Matt',\n",
       " 'Voss',\n",
       " 'Colton',\n",
       " 'McKiernan',\n",
       " 'Jacob',\n",
       " 'Aven',\n",
       " 'Aj',\n",
       " 'Nevills',\n",
       " 'Billy',\n",
       " 'Miller',\n",
       " 'Cary',\n",
       " 'Miller',\n",
       " 'Ian',\n",
       " 'Butterbrodt',\n",
       " 'Jeramy',\n",
       " 'Sweany',\n",
       " 'Joseph',\n",
       " 'Goodhart',\n",
       " 'Antonio',\n",
       " 'Pelusi']"
      ]
     },
     "execution_count": 19,
     "metadata": {},
     "output_type": "execute_result"
    }
   ],
   "source": [
    "all_ConsRound1_tags"
   ]
  },
  {
   "cell_type": "code",
   "execution_count": 20,
   "metadata": {},
   "outputs": [],
   "source": [
    "ConsRound1 = []\n",
    "for i in range(len(all_ConsRound1_tags)):\n",
    "    if i % 2 == 0:\n",
    "        ConsRound1.append(''.join(all_ConsRound1_tags[i : i+2]))"
   ]
  },
  {
   "cell_type": "code",
   "execution_count": 21,
   "metadata": {},
   "outputs": [
    {
     "data": {
      "text/plain": [
       "['BrandonNgati',\n",
       " 'DavidJensen',\n",
       " 'HaydnMaley',\n",
       " 'GannonGremmel',\n",
       " 'MasonParris',\n",
       " 'CoryGillilandDaniel',\n",
       " 'MattVoss',\n",
       " 'ColtonMcKiernan',\n",
       " 'JacobAven',\n",
       " 'AjNevills',\n",
       " 'BillyMiller',\n",
       " 'CaryMiller',\n",
       " 'IanButterbrodt',\n",
       " 'JeramySweany',\n",
       " 'JosephGoodhart',\n",
       " 'AntonioPelusi']"
      ]
     },
     "execution_count": 21,
     "metadata": {},
     "output_type": "execute_result"
    }
   ],
   "source": [
    "ConsRound1"
   ]
  },
  {
   "cell_type": "code",
   "execution_count": 22,
   "metadata": {},
   "outputs": [],
   "source": [
    "all_ConsRound2_tags = cleaned_list[164:188]"
   ]
  },
  {
   "cell_type": "code",
   "execution_count": 24,
   "metadata": {},
   "outputs": [],
   "source": [
    "all_ConsRound2_tags_cleaned = []\n",
    "for i in range(len(all_ConsRound2_tags)-1):\n",
    "    if i % 3 == 0:\n",
    "        all_ConsRound2_tags_cleaned.append(all_ConsRound2_tags[i])\n",
    "    if i % 3 == 1:\n",
    "        all_ConsRound2_tags_cleaned.append(all_ConsRound2_tags[i])"
   ]
  },
  {
   "cell_type": "code",
   "execution_count": 25,
   "metadata": {},
   "outputs": [],
   "source": [
    "for i in range(0,len(all_ConsRound2_tags_cleaned)):\n",
    "    for j in range(0,len(ChampRound1)):\n",
    "        if all_ConsRound2_tags_cleaned[i] in ChampRound1[j]:\n",
    "            all_ConsRound2_tags_cleaned[i] = ChampRound1[j]"
   ]
  },
  {
   "cell_type": "code",
   "execution_count": 26,
   "metadata": {},
   "outputs": [],
   "source": [
    "ConsRound2keys = []\n",
    "ConsRound2vals = []\n",
    "for i in range(len(all_ConsRound2_tags_cleaned)):\n",
    "    if i % 2 == 0:\n",
    "        ConsRound2keys.append(all_ConsRound2_tags_cleaned[i])\n",
    "    else:\n",
    "        ConsRound2vals.append(all_ConsRound2_tags_cleaned[i])"
   ]
  },
  {
   "cell_type": "code",
   "execution_count": 27,
   "metadata": {},
   "outputs": [],
   "source": [
    "for i in range(len(ChampRound1)):\n",
    "    if ChampRound1[i] not in ConsRound2keys:\n",
    "        ConsRound2keys.append(ChampRound1[i])\n",
    "        ConsRound2vals.append('')"
   ]
  },
  {
   "cell_type": "code",
   "execution_count": 28,
   "metadata": {},
   "outputs": [],
   "source": [
    "ConsRound2 = {ConsRound2keys[i]: ConsRound2vals[i] for i in range(len(ConsRound2keys))}"
   ]
  },
  {
   "cell_type": "code",
   "execution_count": 29,
   "metadata": {},
   "outputs": [
    {
     "data": {
      "text/plain": [
       "{'DavidJensen': 'MD',\n",
       " 'GannonGremmel': 'Dec',\n",
       " 'MasonParris': 'Fall',\n",
       " 'MattVoss': 'Dec',\n",
       " 'JacobAven': 'Dec',\n",
       " 'BillyMiller': 'Dec',\n",
       " 'IanButterbrodt': 'Dec',\n",
       " 'JosephGoodhart': 'Dec',\n",
       " 'DerekWhite': '',\n",
       " 'BrandonNgati': '',\n",
       " 'ChaseSingletary': '',\n",
       " 'MattStencel': '',\n",
       " 'HaydnMaley': '',\n",
       " 'DemetriusThomas': '',\n",
       " 'SamStoll': '',\n",
       " 'CoryGillilandDaniel': '',\n",
       " 'ConanJennings': '',\n",
       " 'ZachElam': '',\n",
       " 'ColtonMcKiernan': '',\n",
       " 'JordanWood': '',\n",
       " 'GableSteveson': '',\n",
       " 'ZackParker': '',\n",
       " 'BrianAndrews': '',\n",
       " 'AjNevills': '',\n",
       " 'ThomasHaines': '',\n",
       " 'CaryMiller': '',\n",
       " 'AmarDhesi': '',\n",
       " 'TrentHillger': '',\n",
       " 'JeramySweany': '',\n",
       " 'YoussifHemida': '',\n",
       " 'TateOrndorff': '',\n",
       " 'AntonioPelusi': '',\n",
       " 'AnthonyCassar': ''}"
      ]
     },
     "execution_count": 29,
     "metadata": {},
     "output_type": "execute_result"
    }
   ],
   "source": [
    "ConsRound2"
   ]
  },
  {
   "cell_type": "code",
   "execution_count": 30,
   "metadata": {},
   "outputs": [],
   "source": [
    "all_ConsRound3_tags = cleaned_list[188:204]"
   ]
  },
  {
   "cell_type": "code",
   "execution_count": 31,
   "metadata": {},
   "outputs": [
    {
     "data": {
      "text/plain": [
       "['Orndorff',\n",
       " 'Dec',\n",
       " 'Hemida',\n",
       " 'Fall',\n",
       " 'Parris',\n",
       " 'Fall',\n",
       " 'Voss',\n",
       " 'Dec',\n",
       " 'Elam',\n",
       " 'Fall',\n",
       " 'Jennings',\n",
       " 'Dec',\n",
       " 'Butterbrodt',\n",
       " 'MD',\n",
       " 'Singletary',\n",
       " 'Dec']"
      ]
     },
     "execution_count": 31,
     "metadata": {},
     "output_type": "execute_result"
    }
   ],
   "source": [
    "all_ConsRound3_tags"
   ]
  },
  {
   "cell_type": "code",
   "execution_count": 32,
   "metadata": {},
   "outputs": [],
   "source": [
    "for i in range(0,len(all_ConsRound3_tags)):\n",
    "    for j in range(0,len(ChampRound1)):\n",
    "        if all_ConsRound3_tags[i] in ChampRound1[j]:\n",
    "            all_ConsRound3_tags[i] = ChampRound1[j]"
   ]
  },
  {
   "cell_type": "code",
   "execution_count": 33,
   "metadata": {},
   "outputs": [],
   "source": [
    "ConsRound3keys = []\n",
    "ConsRound3vals = []\n",
    "for i in range(len(all_ConsRound3_tags)):\n",
    "    if i % 2 == 0:\n",
    "        ConsRound3keys.append(all_ConsRound3_tags[i])\n",
    "    else:\n",
    "        ConsRound3vals.append(all_ConsRound3_tags[i])"
   ]
  },
  {
   "cell_type": "code",
   "execution_count": 34,
   "metadata": {},
   "outputs": [],
   "source": [
    "for i in range(len(ChampRound1)):\n",
    "    if ChampRound1[i] not in ConsRound3keys:\n",
    "        ConsRound3keys.append(ChampRound1[i])\n",
    "        ConsRound3vals.append('')"
   ]
  },
  {
   "cell_type": "code",
   "execution_count": 35,
   "metadata": {},
   "outputs": [],
   "source": [
    "ConsRound3 = {ConsRound3keys[i]: ConsRound3vals[i] for i in range(len(ConsRound3keys))}"
   ]
  },
  {
   "cell_type": "code",
   "execution_count": 36,
   "metadata": {},
   "outputs": [
    {
     "data": {
      "text/plain": [
       "{'TateOrndorff': 'Dec',\n",
       " 'YoussifHemida': 'Fall',\n",
       " 'MasonParris': 'Fall',\n",
       " 'MattVoss': 'Dec',\n",
       " 'ZachElam': 'Fall',\n",
       " 'ConanJennings': 'Dec',\n",
       " 'IanButterbrodt': 'MD',\n",
       " 'ChaseSingletary': 'Dec',\n",
       " 'DerekWhite': '',\n",
       " 'BrandonNgati': '',\n",
       " 'DavidJensen': '',\n",
       " 'MattStencel': '',\n",
       " 'HaydnMaley': '',\n",
       " 'GannonGremmel': '',\n",
       " 'DemetriusThomas': '',\n",
       " 'SamStoll': '',\n",
       " 'CoryGillilandDaniel': '',\n",
       " 'ColtonMcKiernan': '',\n",
       " 'JordanWood': '',\n",
       " 'GableSteveson': '',\n",
       " 'ZackParker': '',\n",
       " 'BrianAndrews': '',\n",
       " 'AjNevills': '',\n",
       " 'ThomasHaines': '',\n",
       " 'BillyMiller': '',\n",
       " 'CaryMiller': '',\n",
       " 'AmarDhesi': '',\n",
       " 'TrentHillger': '',\n",
       " 'JeramySweany': '',\n",
       " 'JosephGoodhart': '',\n",
       " 'AntonioPelusi': '',\n",
       " 'AnthonyCassar': '',\n",
       " 'JacobAven': ''}"
      ]
     },
     "execution_count": 36,
     "metadata": {},
     "output_type": "execute_result"
    }
   ],
   "source": [
    "ConsRound3"
   ]
  },
  {
   "cell_type": "code",
   "execution_count": 37,
   "metadata": {},
   "outputs": [],
   "source": [
    "all_ConsRound4_tags = cleaned_list[204:216]"
   ]
  },
  {
   "cell_type": "code",
   "execution_count": 38,
   "metadata": {},
   "outputs": [
    {
     "data": {
      "text/plain": [
       "['Hemida',\n",
       " 'Fall',\n",
       " 'Stoll',\n",
       " 'Parris',\n",
       " 'MD',\n",
       " 'Stencel',\n",
       " 'Elam',\n",
       " 'TB',\n",
       " 'Hillger',\n",
       " 'Butterbrodt',\n",
       " 'Dec',\n",
       " 'Dhesi']"
      ]
     },
     "execution_count": 38,
     "metadata": {},
     "output_type": "execute_result"
    }
   ],
   "source": [
    "all_ConsRound4_tags"
   ]
  },
  {
   "cell_type": "code",
   "execution_count": 39,
   "metadata": {},
   "outputs": [],
   "source": [
    "for i in range(0,len(all_ConsRound4_tags)):\n",
    "    for j in range(0,len(ChampRound1)):\n",
    "        if all_ConsRound4_tags[i] in ChampRound1[j]:\n",
    "            all_ConsRound4_tags[i] = ChampRound1[j]"
   ]
  },
  {
   "cell_type": "code",
   "execution_count": 40,
   "metadata": {},
   "outputs": [],
   "source": [
    "all_ConsRound4_tags_cleaned = []\n",
    "for i in range(len(all_ConsRound4_tags)-1):\n",
    "    if i % 3 != 2:\n",
    "        all_ConsRound4_tags_cleaned.append(all_ConsRound4_tags[i])"
   ]
  },
  {
   "cell_type": "code",
   "execution_count": 41,
   "metadata": {},
   "outputs": [],
   "source": [
    "ConsRound4keys = []\n",
    "ConsRound4vals = []\n",
    "for i in range(len(all_ConsRound4_tags_cleaned)):\n",
    "    if i % 2 == 0:\n",
    "        ConsRound4keys.append(all_ConsRound4_tags_cleaned[i])\n",
    "    else:\n",
    "        ConsRound4vals.append(all_ConsRound4_tags_cleaned[i])"
   ]
  },
  {
   "cell_type": "code",
   "execution_count": 42,
   "metadata": {},
   "outputs": [],
   "source": [
    "for i in range(len(ChampRound1)):\n",
    "    if ChampRound1[i] not in ConsRound4keys:\n",
    "        ConsRound4keys.append(ChampRound1[i])\n",
    "        ConsRound4vals.append('')"
   ]
  },
  {
   "cell_type": "code",
   "execution_count": 43,
   "metadata": {},
   "outputs": [],
   "source": [
    "ConsRound4 = {ConsRound4keys[i]: ConsRound4vals[i] for i in range(len(ConsRound4keys))}"
   ]
  },
  {
   "cell_type": "code",
   "execution_count": 44,
   "metadata": {},
   "outputs": [
    {
     "data": {
      "text/plain": [
       "{'YoussifHemida': 'Fall',\n",
       " 'MasonParris': 'MD',\n",
       " 'ZachElam': 'TB',\n",
       " 'IanButterbrodt': 'Dec',\n",
       " 'DerekWhite': '',\n",
       " 'BrandonNgati': '',\n",
       " 'DavidJensen': '',\n",
       " 'ChaseSingletary': '',\n",
       " 'MattStencel': '',\n",
       " 'HaydnMaley': '',\n",
       " 'GannonGremmel': '',\n",
       " 'DemetriusThomas': '',\n",
       " 'SamStoll': '',\n",
       " 'CoryGillilandDaniel': '',\n",
       " 'ConanJennings': '',\n",
       " 'MattVoss': '',\n",
       " 'ColtonMcKiernan': '',\n",
       " 'JordanWood': '',\n",
       " 'GableSteveson': '',\n",
       " 'ZackParker': '',\n",
       " 'BrianAndrews': '',\n",
       " 'AjNevills': '',\n",
       " 'ThomasHaines': '',\n",
       " 'BillyMiller': '',\n",
       " 'CaryMiller': '',\n",
       " 'AmarDhesi': '',\n",
       " 'TrentHillger': '',\n",
       " 'JeramySweany': '',\n",
       " 'TateOrndorff': '',\n",
       " 'JosephGoodhart': '',\n",
       " 'AntonioPelusi': '',\n",
       " 'AnthonyCassar': '',\n",
       " 'JacobAven': ''}"
      ]
     },
     "execution_count": 44,
     "metadata": {},
     "output_type": "execute_result"
    }
   ],
   "source": [
    "ConsRound4"
   ]
  },
  {
   "cell_type": "code",
   "execution_count": 45,
   "metadata": {},
   "outputs": [],
   "source": [
    "all_ConsRound5_tags = cleaned_list[216:224]"
   ]
  },
  {
   "cell_type": "code",
   "execution_count": 46,
   "metadata": {},
   "outputs": [
    {
     "data": {
      "text/plain": [
       "['Hemida', 'Dec', 'Stencel', 'Fall', 'Hillger', 'Dec', 'Dhesi', 'MD']"
      ]
     },
     "execution_count": 46,
     "metadata": {},
     "output_type": "execute_result"
    }
   ],
   "source": [
    "all_ConsRound5_tags"
   ]
  },
  {
   "cell_type": "code",
   "execution_count": 47,
   "metadata": {},
   "outputs": [],
   "source": [
    "for i in range(0,len(all_ConsRound5_tags)):\n",
    "    for j in range(0,len(ChampRound1)):\n",
    "        if all_ConsRound5_tags[i] in ChampRound1[j]:\n",
    "            all_ConsRound5_tags[i] = ChampRound1[j]"
   ]
  },
  {
   "cell_type": "code",
   "execution_count": 48,
   "metadata": {},
   "outputs": [],
   "source": [
    "ConsRound5keys = []\n",
    "ConsRound5vals = []\n",
    "for i in range(len(all_ConsRound5_tags)):\n",
    "    if i % 2 == 0:\n",
    "        ConsRound5keys.append(all_ConsRound5_tags[i])\n",
    "    else:\n",
    "        ConsRound5vals.append(all_ConsRound5_tags[i])"
   ]
  },
  {
   "cell_type": "code",
   "execution_count": 49,
   "metadata": {},
   "outputs": [],
   "source": [
    "for i in range(len(ChampRound1)):\n",
    "    if ChampRound1[i] not in ConsRound5keys:\n",
    "        ConsRound5keys.append(ChampRound1[i])\n",
    "        ConsRound5vals.append('')"
   ]
  },
  {
   "cell_type": "code",
   "execution_count": 50,
   "metadata": {},
   "outputs": [],
   "source": [
    "ConsRound5 = {ConsRound5keys[i]: ConsRound5vals[i] for i in range(len(ConsRound5keys))}"
   ]
  },
  {
   "cell_type": "code",
   "execution_count": 51,
   "metadata": {},
   "outputs": [],
   "source": [
    "all_ConsRound6_tags = cleaned_list[224:230]"
   ]
  },
  {
   "cell_type": "code",
   "execution_count": 52,
   "metadata": {},
   "outputs": [],
   "source": [
    "for i in range(0,len(all_ConsRound6_tags)):\n",
    "    for j in range(0,len(ChampRound1)):\n",
    "        if all_ConsRound6_tags[i] in ChampRound1[j]:\n",
    "            all_ConsRound6_tags[i] = ChampRound1[j]"
   ]
  },
  {
   "cell_type": "code",
   "execution_count": 53,
   "metadata": {},
   "outputs": [],
   "source": [
    "all_ConsRound6_tags_cleaned = []\n",
    "for i in range(len(all_ConsRound6_tags)-1):\n",
    "    if i % 3 != 2:\n",
    "        all_ConsRound6_tags_cleaned.append(all_ConsRound6_tags[i])"
   ]
  },
  {
   "cell_type": "code",
   "execution_count": 54,
   "metadata": {},
   "outputs": [],
   "source": [
    "ConsRound6keys = []\n",
    "ConsRound6vals = []\n",
    "for i in range(len(all_ConsRound6_tags_cleaned)):\n",
    "    if i % 2 == 0:\n",
    "        ConsRound6keys.append(all_ConsRound6_tags_cleaned[i])\n",
    "    else:\n",
    "        ConsRound6vals.append(all_ConsRound6_tags_cleaned[i])"
   ]
  },
  {
   "cell_type": "code",
   "execution_count": 55,
   "metadata": {},
   "outputs": [],
   "source": [
    "for i in range(len(ChampRound1)):\n",
    "    if ChampRound1[i] not in ConsRound6keys:\n",
    "        ConsRound6keys.append(ChampRound1[i])\n",
    "        ConsRound6vals.append('')"
   ]
  },
  {
   "cell_type": "code",
   "execution_count": 56,
   "metadata": {},
   "outputs": [],
   "source": [
    "ConsRound6 = {ConsRound6keys[i]: ConsRound6vals[i] for i in range(len(ConsRound6keys))}"
   ]
  },
  {
   "cell_type": "code",
   "execution_count": 57,
   "metadata": {},
   "outputs": [],
   "source": [
    "all_ConsRound7_tags = cleaned_list[230:234]"
   ]
  },
  {
   "cell_type": "code",
   "execution_count": 58,
   "metadata": {},
   "outputs": [
    {
     "data": {
      "text/plain": [
       "['Steveson', 'Dec', 'Wood', 'Dec']"
      ]
     },
     "execution_count": 58,
     "metadata": {},
     "output_type": "execute_result"
    }
   ],
   "source": [
    "all_ConsRound7_tags"
   ]
  },
  {
   "cell_type": "code",
   "execution_count": 59,
   "metadata": {},
   "outputs": [],
   "source": [
    "for i in range(0,len(all_ConsRound7_tags)):\n",
    "    for j in range(0,len(ChampRound1)):\n",
    "        if all_ConsRound7_tags[i] in ChampRound1[j]:\n",
    "            all_ConsRound7_tags[i] = ChampRound1[j]"
   ]
  },
  {
   "cell_type": "code",
   "execution_count": 60,
   "metadata": {},
   "outputs": [],
   "source": [
    "ConsRound7keys = []\n",
    "ConsRound7vals = []\n",
    "for i in range(len(all_ConsRound7_tags)):\n",
    "    if i % 2 == 0:\n",
    "        ConsRound7keys.append(all_ConsRound7_tags[i])\n",
    "    else:\n",
    "        ConsRound7vals.append(all_ConsRound7_tags[i])"
   ]
  },
  {
   "cell_type": "code",
   "execution_count": 61,
   "metadata": {},
   "outputs": [],
   "source": [
    "for i in range(len(ChampRound1)):\n",
    "    if ChampRound1[i] not in ConsRound7keys:\n",
    "        ConsRound7keys.append(ChampRound1[i])\n",
    "        ConsRound7vals.append('')"
   ]
  },
  {
   "cell_type": "code",
   "execution_count": 62,
   "metadata": {},
   "outputs": [],
   "source": [
    "ConsRound7 = {ConsRound7keys[i]: ConsRound7vals[i] for i in range(len(ConsRound7keys))}"
   ]
  },
  {
   "cell_type": "code",
   "execution_count": 76,
   "metadata": {},
   "outputs": [],
   "source": [
    "columns = ['ConsRound1','ConsRound2','ConsRound3','ConsRound4','ConsRound5','ConsRound6','ThirdPlace','FifthPlace','SeventhPlace']"
   ]
  },
  {
   "cell_type": "code",
   "execution_count": 77,
   "metadata": {},
   "outputs": [],
   "source": [
    "cons_bracket_dict_for_pd = {}"
   ]
  },
  {
   "cell_type": "code",
   "execution_count": 78,
   "metadata": {},
   "outputs": [],
   "source": [
    "for i in range(0,len(ChampRound1)):\n",
    "    cons_bracket_dict_for_pd.update({ChampRound1[i]:[]})"
   ]
  },
  {
   "cell_type": "code",
   "execution_count": 79,
   "metadata": {},
   "outputs": [
    {
     "data": {
      "text/plain": [
       "['BrandonNgati',\n",
       " 'DavidJensen',\n",
       " 'HaydnMaley',\n",
       " 'GannonGremmel',\n",
       " 'MasonParris',\n",
       " 'CoryGillilandDaniel',\n",
       " 'MattVoss',\n",
       " 'ColtonMcKiernan',\n",
       " 'JacobAven',\n",
       " 'AjNevills',\n",
       " 'BillyMiller',\n",
       " 'CaryMiller',\n",
       " 'IanButterbrodt',\n",
       " 'JeramySweany',\n",
       " 'JosephGoodhart',\n",
       " 'AntonioPelusi']"
      ]
     },
     "execution_count": 79,
     "metadata": {},
     "output_type": "execute_result"
    }
   ],
   "source": [
    "ConsRound1"
   ]
  },
  {
   "cell_type": "code",
   "execution_count": 80,
   "metadata": {},
   "outputs": [
    {
     "data": {
      "text/plain": [
       "{'DavidJensen': 'MD',\n",
       " 'GannonGremmel': 'Dec',\n",
       " 'MasonParris': 'Fall',\n",
       " 'MattVoss': 'Dec',\n",
       " 'JacobAven': 'Dec',\n",
       " 'BillyMiller': 'Dec',\n",
       " 'IanButterbrodt': 'Dec',\n",
       " 'JosephGoodhart': 'Dec',\n",
       " 'DerekWhite': '',\n",
       " 'BrandonNgati': '',\n",
       " 'ChaseSingletary': '',\n",
       " 'MattStencel': '',\n",
       " 'HaydnMaley': '',\n",
       " 'DemetriusThomas': '',\n",
       " 'SamStoll': '',\n",
       " 'CoryGillilandDaniel': '',\n",
       " 'ConanJennings': '',\n",
       " 'ZachElam': '',\n",
       " 'ColtonMcKiernan': '',\n",
       " 'JordanWood': '',\n",
       " 'GableSteveson': '',\n",
       " 'ZackParker': '',\n",
       " 'BrianAndrews': '',\n",
       " 'AjNevills': '',\n",
       " 'ThomasHaines': '',\n",
       " 'CaryMiller': '',\n",
       " 'AmarDhesi': '',\n",
       " 'TrentHillger': '',\n",
       " 'JeramySweany': '',\n",
       " 'YoussifHemida': '',\n",
       " 'TateOrndorff': '',\n",
       " 'AntonioPelusi': '',\n",
       " 'AnthonyCassar': ''}"
      ]
     },
     "execution_count": 80,
     "metadata": {},
     "output_type": "execute_result"
    }
   ],
   "source": [
    "ConsRound2"
   ]
  },
  {
   "cell_type": "code",
   "execution_count": 81,
   "metadata": {},
   "outputs": [
    {
     "data": {
      "text/plain": [
       "{'TateOrndorff': 'Dec',\n",
       " 'YoussifHemida': 'Fall',\n",
       " 'MasonParris': 'Fall',\n",
       " 'MattVoss': 'Dec',\n",
       " 'ZachElam': 'Fall',\n",
       " 'ConanJennings': 'Dec',\n",
       " 'IanButterbrodt': 'MD',\n",
       " 'ChaseSingletary': 'Dec',\n",
       " 'DerekWhite': '',\n",
       " 'BrandonNgati': '',\n",
       " 'DavidJensen': '',\n",
       " 'MattStencel': '',\n",
       " 'HaydnMaley': '',\n",
       " 'GannonGremmel': '',\n",
       " 'DemetriusThomas': '',\n",
       " 'SamStoll': '',\n",
       " 'CoryGillilandDaniel': '',\n",
       " 'ColtonMcKiernan': '',\n",
       " 'JordanWood': '',\n",
       " 'GableSteveson': '',\n",
       " 'ZackParker': '',\n",
       " 'BrianAndrews': '',\n",
       " 'AjNevills': '',\n",
       " 'ThomasHaines': '',\n",
       " 'BillyMiller': '',\n",
       " 'CaryMiller': '',\n",
       " 'AmarDhesi': '',\n",
       " 'TrentHillger': '',\n",
       " 'JeramySweany': '',\n",
       " 'JosephGoodhart': '',\n",
       " 'AntonioPelusi': '',\n",
       " 'AnthonyCassar': '',\n",
       " 'JacobAven': ''}"
      ]
     },
     "execution_count": 81,
     "metadata": {},
     "output_type": "execute_result"
    }
   ],
   "source": [
    "ConsRound3"
   ]
  },
  {
   "cell_type": "code",
   "execution_count": 82,
   "metadata": {},
   "outputs": [
    {
     "data": {
      "text/plain": [
       "{'YoussifHemida': 'Fall',\n",
       " 'MasonParris': 'MD',\n",
       " 'ZachElam': 'TB',\n",
       " 'IanButterbrodt': 'Dec',\n",
       " 'DerekWhite': '',\n",
       " 'BrandonNgati': '',\n",
       " 'DavidJensen': '',\n",
       " 'ChaseSingletary': '',\n",
       " 'MattStencel': '',\n",
       " 'HaydnMaley': '',\n",
       " 'GannonGremmel': '',\n",
       " 'DemetriusThomas': '',\n",
       " 'SamStoll': '',\n",
       " 'CoryGillilandDaniel': '',\n",
       " 'ConanJennings': '',\n",
       " 'MattVoss': '',\n",
       " 'ColtonMcKiernan': '',\n",
       " 'JordanWood': '',\n",
       " 'GableSteveson': '',\n",
       " 'ZackParker': '',\n",
       " 'BrianAndrews': '',\n",
       " 'AjNevills': '',\n",
       " 'ThomasHaines': '',\n",
       " 'BillyMiller': '',\n",
       " 'CaryMiller': '',\n",
       " 'AmarDhesi': '',\n",
       " 'TrentHillger': '',\n",
       " 'JeramySweany': '',\n",
       " 'TateOrndorff': '',\n",
       " 'JosephGoodhart': '',\n",
       " 'AntonioPelusi': '',\n",
       " 'AnthonyCassar': '',\n",
       " 'JacobAven': ''}"
      ]
     },
     "execution_count": 82,
     "metadata": {},
     "output_type": "execute_result"
    }
   ],
   "source": [
    "ConsRound4"
   ]
  },
  {
   "cell_type": "code",
   "execution_count": null,
   "metadata": {},
   "outputs": [],
   "source": []
  },
  {
   "cell_type": "code",
   "execution_count": 83,
   "metadata": {},
   "outputs": [],
   "source": [
    "for key in ConsRound2.keys():\n",
    "    cons_bracket_dict_for_pd[key].append(ConsRound2[key])\n",
    "for key in ConsRound3.keys():\n",
    "    cons_bracket_dict_for_pd[key].append(ConsRound3[key])\n",
    "for key in ConsRound4.keys():\n",
    "    cons_bracket_dict_for_pd[key].append(ConsRound4[key])\n",
    "for key in ConsRound5.keys():\n",
    "    cons_bracket_dict_for_pd[key].append(ConsRound5[key])\n",
    "for key in ConsRound6.keys():\n",
    "    cons_bracket_dict_for_pd[key].append(ConsRound6[key])\n",
    "for key in ConsRound7.keys():\n",
    "    cons_bracket_dict_for_pd[key].append(ConsRound7[key])\n",
    "for key in third_place.keys():\n",
    "    cons_bracket_dict_for_pd[key].append(third_place[key])\n",
    "for key in fifth_place.keys():\n",
    "    cons_bracket_dict_for_pd[key].append(fifth_place[key])\n",
    "for key in seventh_place.keys():\n",
    "    cons_bracket_dict_for_pd[key].append(seventh_place[key])"
   ]
  },
  {
   "cell_type": "code",
   "execution_count": 84,
   "metadata": {},
   "outputs": [],
   "source": [
    "cons_bracket_df = pd.DataFrame(cons_bracket_dict_for_pd)"
   ]
  },
  {
   "cell_type": "code",
   "execution_count": 85,
   "metadata": {},
   "outputs": [],
   "source": [
    "cons_bracket_df = cons_bracket_df.transpose()"
   ]
  },
  {
   "cell_type": "code",
   "execution_count": 86,
   "metadata": {},
   "outputs": [],
   "source": [
    "cons_bracket_df.columns=columns"
   ]
  },
  {
   "cell_type": "code",
   "execution_count": 87,
   "metadata": {},
   "outputs": [
    {
     "data": {
      "text/html": [
       "<div>\n",
       "<style scoped>\n",
       "    .dataframe tbody tr th:only-of-type {\n",
       "        vertical-align: middle;\n",
       "    }\n",
       "\n",
       "    .dataframe tbody tr th {\n",
       "        vertical-align: top;\n",
       "    }\n",
       "\n",
       "    .dataframe thead th {\n",
       "        text-align: right;\n",
       "    }\n",
       "</style>\n",
       "<table border=\"1\" class=\"dataframe\">\n",
       "  <thead>\n",
       "    <tr style=\"text-align: right;\">\n",
       "      <th></th>\n",
       "      <th>ConsRound1</th>\n",
       "      <th>ConsRound2</th>\n",
       "      <th>ConsRound3</th>\n",
       "      <th>ConsRound4</th>\n",
       "      <th>ConsRound5</th>\n",
       "      <th>ConsRound6</th>\n",
       "      <th>ThirdPlace</th>\n",
       "      <th>FifthPlace</th>\n",
       "      <th>SeventhPlace</th>\n",
       "    </tr>\n",
       "  </thead>\n",
       "  <tbody>\n",
       "    <tr>\n",
       "      <th>DerekWhite</th>\n",
       "      <td></td>\n",
       "      <td></td>\n",
       "      <td></td>\n",
       "      <td></td>\n",
       "      <td></td>\n",
       "      <td></td>\n",
       "      <td></td>\n",
       "      <td></td>\n",
       "      <td></td>\n",
       "    </tr>\n",
       "    <tr>\n",
       "      <th>BrandonNgati</th>\n",
       "      <td></td>\n",
       "      <td></td>\n",
       "      <td></td>\n",
       "      <td></td>\n",
       "      <td></td>\n",
       "      <td></td>\n",
       "      <td></td>\n",
       "      <td></td>\n",
       "      <td></td>\n",
       "    </tr>\n",
       "    <tr>\n",
       "      <th>DavidJensen</th>\n",
       "      <td>MD</td>\n",
       "      <td></td>\n",
       "      <td></td>\n",
       "      <td></td>\n",
       "      <td></td>\n",
       "      <td></td>\n",
       "      <td></td>\n",
       "      <td></td>\n",
       "      <td></td>\n",
       "    </tr>\n",
       "    <tr>\n",
       "      <th>ChaseSingletary</th>\n",
       "      <td></td>\n",
       "      <td>Dec</td>\n",
       "      <td></td>\n",
       "      <td></td>\n",
       "      <td></td>\n",
       "      <td></td>\n",
       "      <td></td>\n",
       "      <td></td>\n",
       "      <td></td>\n",
       "    </tr>\n",
       "    <tr>\n",
       "      <th>MattStencel</th>\n",
       "      <td></td>\n",
       "      <td></td>\n",
       "      <td></td>\n",
       "      <td>Fall</td>\n",
       "      <td></td>\n",
       "      <td></td>\n",
       "      <td></td>\n",
       "      <td></td>\n",
       "      <td>Dec</td>\n",
       "    </tr>\n",
       "    <tr>\n",
       "      <th>HaydnMaley</th>\n",
       "      <td></td>\n",
       "      <td></td>\n",
       "      <td></td>\n",
       "      <td></td>\n",
       "      <td></td>\n",
       "      <td></td>\n",
       "      <td></td>\n",
       "      <td></td>\n",
       "      <td></td>\n",
       "    </tr>\n",
       "    <tr>\n",
       "      <th>GannonGremmel</th>\n",
       "      <td>Dec</td>\n",
       "      <td></td>\n",
       "      <td></td>\n",
       "      <td></td>\n",
       "      <td></td>\n",
       "      <td></td>\n",
       "      <td></td>\n",
       "      <td></td>\n",
       "      <td></td>\n",
       "    </tr>\n",
       "    <tr>\n",
       "      <th>DemetriusThomas</th>\n",
       "      <td></td>\n",
       "      <td></td>\n",
       "      <td></td>\n",
       "      <td></td>\n",
       "      <td></td>\n",
       "      <td></td>\n",
       "      <td></td>\n",
       "      <td></td>\n",
       "      <td></td>\n",
       "    </tr>\n",
       "    <tr>\n",
       "      <th>MasonParris</th>\n",
       "      <td>Fall</td>\n",
       "      <td>Fall</td>\n",
       "      <td>MD</td>\n",
       "      <td></td>\n",
       "      <td></td>\n",
       "      <td></td>\n",
       "      <td></td>\n",
       "      <td></td>\n",
       "      <td></td>\n",
       "    </tr>\n",
       "    <tr>\n",
       "      <th>SamStoll</th>\n",
       "      <td></td>\n",
       "      <td></td>\n",
       "      <td></td>\n",
       "      <td></td>\n",
       "      <td></td>\n",
       "      <td></td>\n",
       "      <td></td>\n",
       "      <td></td>\n",
       "      <td></td>\n",
       "    </tr>\n",
       "    <tr>\n",
       "      <th>CoryGillilandDaniel</th>\n",
       "      <td></td>\n",
       "      <td></td>\n",
       "      <td></td>\n",
       "      <td></td>\n",
       "      <td></td>\n",
       "      <td></td>\n",
       "      <td></td>\n",
       "      <td></td>\n",
       "      <td></td>\n",
       "    </tr>\n",
       "    <tr>\n",
       "      <th>ConanJennings</th>\n",
       "      <td></td>\n",
       "      <td>Dec</td>\n",
       "      <td></td>\n",
       "      <td></td>\n",
       "      <td></td>\n",
       "      <td></td>\n",
       "      <td></td>\n",
       "      <td></td>\n",
       "      <td></td>\n",
       "    </tr>\n",
       "    <tr>\n",
       "      <th>MattVoss</th>\n",
       "      <td>Dec</td>\n",
       "      <td>Dec</td>\n",
       "      <td></td>\n",
       "      <td></td>\n",
       "      <td></td>\n",
       "      <td></td>\n",
       "      <td></td>\n",
       "      <td></td>\n",
       "      <td></td>\n",
       "    </tr>\n",
       "    <tr>\n",
       "      <th>ZachElam</th>\n",
       "      <td></td>\n",
       "      <td>Fall</td>\n",
       "      <td>TB</td>\n",
       "      <td></td>\n",
       "      <td></td>\n",
       "      <td></td>\n",
       "      <td></td>\n",
       "      <td></td>\n",
       "      <td></td>\n",
       "    </tr>\n",
       "    <tr>\n",
       "      <th>ColtonMcKiernan</th>\n",
       "      <td></td>\n",
       "      <td></td>\n",
       "      <td></td>\n",
       "      <td></td>\n",
       "      <td></td>\n",
       "      <td></td>\n",
       "      <td></td>\n",
       "      <td></td>\n",
       "      <td></td>\n",
       "    </tr>\n",
       "    <tr>\n",
       "      <th>JordanWood</th>\n",
       "      <td></td>\n",
       "      <td></td>\n",
       "      <td></td>\n",
       "      <td></td>\n",
       "      <td></td>\n",
       "      <td>Dec</td>\n",
       "      <td></td>\n",
       "      <td></td>\n",
       "      <td></td>\n",
       "    </tr>\n",
       "    <tr>\n",
       "      <th>GableSteveson</th>\n",
       "      <td></td>\n",
       "      <td></td>\n",
       "      <td></td>\n",
       "      <td></td>\n",
       "      <td></td>\n",
       "      <td>Dec</td>\n",
       "      <td>Dec</td>\n",
       "      <td></td>\n",
       "      <td></td>\n",
       "    </tr>\n",
       "    <tr>\n",
       "      <th>ZackParker</th>\n",
       "      <td></td>\n",
       "      <td></td>\n",
       "      <td></td>\n",
       "      <td></td>\n",
       "      <td></td>\n",
       "      <td></td>\n",
       "      <td></td>\n",
       "      <td></td>\n",
       "      <td></td>\n",
       "    </tr>\n",
       "    <tr>\n",
       "      <th>BrianAndrews</th>\n",
       "      <td></td>\n",
       "      <td></td>\n",
       "      <td></td>\n",
       "      <td></td>\n",
       "      <td></td>\n",
       "      <td></td>\n",
       "      <td></td>\n",
       "      <td></td>\n",
       "      <td></td>\n",
       "    </tr>\n",
       "    <tr>\n",
       "      <th>AjNevills</th>\n",
       "      <td></td>\n",
       "      <td></td>\n",
       "      <td></td>\n",
       "      <td></td>\n",
       "      <td></td>\n",
       "      <td></td>\n",
       "      <td></td>\n",
       "      <td></td>\n",
       "      <td></td>\n",
       "    </tr>\n",
       "    <tr>\n",
       "      <th>ThomasHaines</th>\n",
       "      <td></td>\n",
       "      <td></td>\n",
       "      <td></td>\n",
       "      <td></td>\n",
       "      <td></td>\n",
       "      <td></td>\n",
       "      <td></td>\n",
       "      <td></td>\n",
       "      <td></td>\n",
       "    </tr>\n",
       "    <tr>\n",
       "      <th>BillyMiller</th>\n",
       "      <td>Dec</td>\n",
       "      <td></td>\n",
       "      <td></td>\n",
       "      <td></td>\n",
       "      <td></td>\n",
       "      <td></td>\n",
       "      <td></td>\n",
       "      <td></td>\n",
       "      <td></td>\n",
       "    </tr>\n",
       "    <tr>\n",
       "      <th>CaryMiller</th>\n",
       "      <td></td>\n",
       "      <td></td>\n",
       "      <td></td>\n",
       "      <td></td>\n",
       "      <td></td>\n",
       "      <td></td>\n",
       "      <td></td>\n",
       "      <td></td>\n",
       "      <td></td>\n",
       "    </tr>\n",
       "    <tr>\n",
       "      <th>AmarDhesi</th>\n",
       "      <td></td>\n",
       "      <td></td>\n",
       "      <td></td>\n",
       "      <td>MD</td>\n",
       "      <td>Fall</td>\n",
       "      <td></td>\n",
       "      <td></td>\n",
       "      <td>Dec</td>\n",
       "      <td></td>\n",
       "    </tr>\n",
       "    <tr>\n",
       "      <th>TrentHillger</th>\n",
       "      <td></td>\n",
       "      <td></td>\n",
       "      <td></td>\n",
       "      <td>Dec</td>\n",
       "      <td></td>\n",
       "      <td></td>\n",
       "      <td></td>\n",
       "      <td></td>\n",
       "      <td></td>\n",
       "    </tr>\n",
       "    <tr>\n",
       "      <th>IanButterbrodt</th>\n",
       "      <td>Dec</td>\n",
       "      <td>MD</td>\n",
       "      <td>Dec</td>\n",
       "      <td></td>\n",
       "      <td></td>\n",
       "      <td></td>\n",
       "      <td></td>\n",
       "      <td></td>\n",
       "      <td></td>\n",
       "    </tr>\n",
       "    <tr>\n",
       "      <th>JeramySweany</th>\n",
       "      <td></td>\n",
       "      <td></td>\n",
       "      <td></td>\n",
       "      <td></td>\n",
       "      <td></td>\n",
       "      <td></td>\n",
       "      <td></td>\n",
       "      <td></td>\n",
       "      <td></td>\n",
       "    </tr>\n",
       "    <tr>\n",
       "      <th>YoussifHemida</th>\n",
       "      <td></td>\n",
       "      <td>Fall</td>\n",
       "      <td>Fall</td>\n",
       "      <td>Dec</td>\n",
       "      <td>Dec</td>\n",
       "      <td></td>\n",
       "      <td></td>\n",
       "      <td></td>\n",
       "      <td></td>\n",
       "    </tr>\n",
       "    <tr>\n",
       "      <th>TateOrndorff</th>\n",
       "      <td></td>\n",
       "      <td>Dec</td>\n",
       "      <td></td>\n",
       "      <td></td>\n",
       "      <td></td>\n",
       "      <td></td>\n",
       "      <td></td>\n",
       "      <td></td>\n",
       "      <td></td>\n",
       "    </tr>\n",
       "    <tr>\n",
       "      <th>JosephGoodhart</th>\n",
       "      <td>Dec</td>\n",
       "      <td></td>\n",
       "      <td></td>\n",
       "      <td></td>\n",
       "      <td></td>\n",
       "      <td></td>\n",
       "      <td></td>\n",
       "      <td></td>\n",
       "      <td></td>\n",
       "    </tr>\n",
       "    <tr>\n",
       "      <th>AntonioPelusi</th>\n",
       "      <td></td>\n",
       "      <td></td>\n",
       "      <td></td>\n",
       "      <td></td>\n",
       "      <td></td>\n",
       "      <td></td>\n",
       "      <td></td>\n",
       "      <td></td>\n",
       "      <td></td>\n",
       "    </tr>\n",
       "    <tr>\n",
       "      <th>AnthonyCassar</th>\n",
       "      <td></td>\n",
       "      <td></td>\n",
       "      <td></td>\n",
       "      <td></td>\n",
       "      <td></td>\n",
       "      <td></td>\n",
       "      <td></td>\n",
       "      <td></td>\n",
       "      <td></td>\n",
       "    </tr>\n",
       "    <tr>\n",
       "      <th>JacobAven</th>\n",
       "      <td>Dec</td>\n",
       "      <td></td>\n",
       "      <td></td>\n",
       "      <td></td>\n",
       "      <td></td>\n",
       "      <td></td>\n",
       "      <td></td>\n",
       "      <td></td>\n",
       "      <td></td>\n",
       "    </tr>\n",
       "  </tbody>\n",
       "</table>\n",
       "</div>"
      ],
      "text/plain": [
       "                    ConsRound1 ConsRound2 ConsRound3 ConsRound4 ConsRound5  \\\n",
       "DerekWhite                                                                   \n",
       "BrandonNgati                                                                 \n",
       "DavidJensen                 MD                                               \n",
       "ChaseSingletary                       Dec                                    \n",
       "MattStencel                                                Fall              \n",
       "HaydnMaley                                                                   \n",
       "GannonGremmel              Dec                                               \n",
       "DemetriusThomas                                                              \n",
       "MasonParris               Fall       Fall         MD                         \n",
       "SamStoll                                                                     \n",
       "CoryGillilandDaniel                                                          \n",
       "ConanJennings                         Dec                                    \n",
       "MattVoss                   Dec        Dec                                    \n",
       "ZachElam                             Fall         TB                         \n",
       "ColtonMcKiernan                                                              \n",
       "JordanWood                                                                   \n",
       "GableSteveson                                                                \n",
       "ZackParker                                                                   \n",
       "BrianAndrews                                                                 \n",
       "AjNevills                                                                    \n",
       "ThomasHaines                                                                 \n",
       "BillyMiller                Dec                                               \n",
       "CaryMiller                                                                   \n",
       "AmarDhesi                                                    MD       Fall   \n",
       "TrentHillger                                                Dec              \n",
       "IanButterbrodt             Dec         MD        Dec                         \n",
       "JeramySweany                                                                 \n",
       "YoussifHemida                        Fall       Fall        Dec        Dec   \n",
       "TateOrndorff                          Dec                                    \n",
       "JosephGoodhart             Dec                                               \n",
       "AntonioPelusi                                                                \n",
       "AnthonyCassar                                                                \n",
       "JacobAven                  Dec                                               \n",
       "\n",
       "                    ConsRound6 ThirdPlace FifthPlace SeventhPlace  \n",
       "DerekWhite                                                         \n",
       "BrandonNgati                                                       \n",
       "DavidJensen                                                        \n",
       "ChaseSingletary                                                    \n",
       "MattStencel                                                   Dec  \n",
       "HaydnMaley                                                         \n",
       "GannonGremmel                                                      \n",
       "DemetriusThomas                                                    \n",
       "MasonParris                                                        \n",
       "SamStoll                                                           \n",
       "CoryGillilandDaniel                                                \n",
       "ConanJennings                                                      \n",
       "MattVoss                                                           \n",
       "ZachElam                                                           \n",
       "ColtonMcKiernan                                                    \n",
       "JordanWood                 Dec                                     \n",
       "GableSteveson              Dec        Dec                          \n",
       "ZackParker                                                         \n",
       "BrianAndrews                                                       \n",
       "AjNevills                                                          \n",
       "ThomasHaines                                                       \n",
       "BillyMiller                                                        \n",
       "CaryMiller                                                         \n",
       "AmarDhesi                                        Dec               \n",
       "TrentHillger                                                       \n",
       "IanButterbrodt                                                     \n",
       "JeramySweany                                                       \n",
       "YoussifHemida                                                      \n",
       "TateOrndorff                                                       \n",
       "JosephGoodhart                                                     \n",
       "AntonioPelusi                                                      \n",
       "AnthonyCassar                                                      \n",
       "JacobAven                                                          "
      ]
     },
     "execution_count": 87,
     "metadata": {},
     "output_type": "execute_result"
    }
   ],
   "source": [
    "cons_bracket_df"
   ]
  },
  {
   "cell_type": "code",
   "execution_count": 88,
   "metadata": {},
   "outputs": [],
   "source": [
    "cons_bracket_df.to_csv(r'C:\\Users\\fq1228hj\\Documents\\NCAA Wrestling\\cons_285_df.csv')"
   ]
  },
  {
   "cell_type": "code",
   "execution_count": null,
   "metadata": {},
   "outputs": [],
   "source": []
  }
 ],
 "metadata": {
  "kernelspec": {
   "display_name": "Python 3",
   "language": "python",
   "name": "python3"
  },
  "language_info": {
   "codemirror_mode": {
    "name": "ipython",
    "version": 3
   },
   "file_extension": ".py",
   "mimetype": "text/x-python",
   "name": "python",
   "nbconvert_exporter": "python",
   "pygments_lexer": "ipython3",
   "version": "3.7.6"
  }
 },
 "nbformat": 4,
 "nbformat_minor": 2
}
